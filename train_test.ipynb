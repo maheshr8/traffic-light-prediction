{
 "cells": [
  {
   "cell_type": "code",
   "execution_count": 1,
   "id": "f4f46017",
   "metadata": {},
   "outputs": [],
   "source": [
    "import os\n",
    "import numpy as np\n",
    "import random\n",
    "import glob\n",
    "import pandas as pd\n",
    "import shutil\n",
    "import time\n"
   ]
  },
  {
   "cell_type": "code",
   "execution_count": 2,
   "id": "09cf67d1",
   "metadata": {},
   "outputs": [],
   "source": [
    "# Seed Everything for Reproducibility\n",
    "SEED = 42\n",
    "\n",
    "def seed_everything(seed):\n",
    "    os.environ['PYTHONHASHSEED'] = str(seed)\n",
    "    np.random.seed(seed)\n",
    "\n",
    "seed_everything(SEED)"
   ]
  },
  {
   "cell_type": "code",
   "execution_count": 3,
   "id": "ad1720af",
   "metadata": {},
   "outputs": [],
   "source": [
    "# get all the image file names from 'frames'\n",
    "image_files = glob.glob(os.path.join('frames','**/*.jpg'), recursive=True)\n"
   ]
  },
  {
   "cell_type": "code",
   "execution_count": 4,
   "id": "c784988e",
   "metadata": {},
   "outputs": [
    {
     "name": "stdout",
     "output_type": "stream",
     "text": [
      "43016\n"
     ]
    }
   ],
   "source": [
    "print(len(image_files))"
   ]
  },
  {
   "cell_type": "code",
   "execution_count": 5,
   "id": "c70ecdb1",
   "metadata": {
    "scrolled": true
   },
   "outputs": [
    {
     "name": "stdout",
     "output_type": "stream",
     "text": [
      "No duplicates found.\n"
     ]
    }
   ],
   "source": [
    "de_duped_list = list(set(image_files))\n",
    "\n",
    "if len(image_files) != len(de_duped_list):\n",
    "    print(\"Duplicates found!\")\n",
    "    duplicates = [item for item in image_files if image_files.count(item) > 1]\n",
    "    print(\"Duplicate items:\", duplicates)\n",
    "else:\n",
    "    print(\"No duplicates found.\")"
   ]
  },
  {
   "cell_type": "code",
   "execution_count": 12,
   "id": "4324e453",
   "metadata": {},
   "outputs": [],
   "source": [
    "# we will use 80% for training and 20% for test\n",
    "train_indices = []\n",
    "test_indices = []\n",
    "\n",
    "test_indices = random.sample(image_files, int(len(image_files)*0.20))\n"
   ]
  },
  {
   "cell_type": "code",
   "execution_count": 15,
   "id": "7921ea75",
   "metadata": {},
   "outputs": [
    {
     "name": "stdout",
     "output_type": "stream",
     "text": [
      "frames\\dayTrain\\dayTrain\\dayClip8\\frames\\dayClip8--00303.jpg\n",
      "frames\\daySequence1\\daySequence1\\frames\\daySequence1--00271.jpg\n",
      "frames\\daySequence2\\daySequence2\\frames\\daySequence2--03103.jpg\n",
      "frames\\dayTrain\\dayTrain\\dayClip1\\frames\\dayClip1--00004.jpg\n",
      "frames\\dayTrain\\dayTrain\\dayClip7\\frames\\dayClip7--01611.jpg\n",
      "frames\\daySequence1\\daySequence1\\frames\\daySequence1--03328.jpg\n",
      "frames\\dayTrain\\dayTrain\\dayClip13\\frames\\dayClip13--00121.jpg\n",
      "frames\\daySequence2\\daySequence2\\frames\\daySequence2--02839.jpg\n",
      "frames\\nightTrain\\nightTrain\\nightClip5\\frames\\nightClip5--01078.jpg\n",
      "frames\\nightTrain\\nightTrain\\nightClip5\\frames\\nightClip5--00165.jpg\n",
      "frames\\nightSequence1\\nightSequence1\\frames\\nightSequence1--03644.jpg\n",
      "frames\\daySequence2\\daySequence2\\frames\\daySequence2--01830.jpg\n",
      "frames\\daySequence1\\daySequence1\\frames\\daySequence1--01027.jpg\n",
      "frames\\dayTrain\\dayTrain\\dayClip2\\frames\\dayClip2--00141.jpg\n",
      "frames\\daySequence2\\daySequence2\\frames\\daySequence2--00796.jpg\n"
     ]
    }
   ],
   "source": [
    "for i in range(0, 15):\n",
    "    print(test_indices[i])"
   ]
  },
  {
   "cell_type": "code",
   "execution_count": 16,
   "id": "d2143e4e",
   "metadata": {},
   "outputs": [],
   "source": [
    "# create a new list with the remaining 80% for training\n",
    "train_indices = [train for train in image_files if train not in test_indices]"
   ]
  },
  {
   "cell_type": "code",
   "execution_count": 17,
   "id": "5af9bf4a",
   "metadata": {},
   "outputs": [],
   "source": [
    "df_train = pd.DataFrame(train_indices)\n",
    "\n",
    "df_test = pd.DataFrame(test_indices)"
   ]
  },
  {
   "cell_type": "code",
   "execution_count": 18,
   "id": "0333c32c",
   "metadata": {},
   "outputs": [],
   "source": [
    "df_train.columns = ['filename']\n",
    "df_test.columns = ['filename']"
   ]
  },
  {
   "cell_type": "code",
   "execution_count": 19,
   "id": "489b0d5f",
   "metadata": {},
   "outputs": [
    {
     "data": {
      "text/html": [
       "<div>\n",
       "<style scoped>\n",
       "    .dataframe tbody tr th:only-of-type {\n",
       "        vertical-align: middle;\n",
       "    }\n",
       "\n",
       "    .dataframe tbody tr th {\n",
       "        vertical-align: top;\n",
       "    }\n",
       "\n",
       "    .dataframe thead th {\n",
       "        text-align: right;\n",
       "    }\n",
       "</style>\n",
       "<table border=\"1\" class=\"dataframe\">\n",
       "  <thead>\n",
       "    <tr style=\"text-align: right;\">\n",
       "      <th></th>\n",
       "      <th>filename</th>\n",
       "    </tr>\n",
       "  </thead>\n",
       "  <tbody>\n",
       "    <tr>\n",
       "      <th>0</th>\n",
       "      <td>frames\\daySequence1\\daySequence1\\frames\\daySeq...</td>\n",
       "    </tr>\n",
       "    <tr>\n",
       "      <th>1</th>\n",
       "      <td>frames\\daySequence1\\daySequence1\\frames\\daySeq...</td>\n",
       "    </tr>\n",
       "    <tr>\n",
       "      <th>2</th>\n",
       "      <td>frames\\daySequence1\\daySequence1\\frames\\daySeq...</td>\n",
       "    </tr>\n",
       "    <tr>\n",
       "      <th>3</th>\n",
       "      <td>frames\\daySequence1\\daySequence1\\frames\\daySeq...</td>\n",
       "    </tr>\n",
       "    <tr>\n",
       "      <th>4</th>\n",
       "      <td>frames\\daySequence1\\daySequence1\\frames\\daySeq...</td>\n",
       "    </tr>\n",
       "    <tr>\n",
       "      <th>...</th>\n",
       "      <td>...</td>\n",
       "    </tr>\n",
       "    <tr>\n",
       "      <th>34408</th>\n",
       "      <td>frames\\nightTrain\\nightTrain\\nightClip5\\frames...</td>\n",
       "    </tr>\n",
       "    <tr>\n",
       "      <th>34409</th>\n",
       "      <td>frames\\nightTrain\\nightTrain\\nightClip5\\frames...</td>\n",
       "    </tr>\n",
       "    <tr>\n",
       "      <th>34410</th>\n",
       "      <td>frames\\nightTrain\\nightTrain\\nightClip5\\frames...</td>\n",
       "    </tr>\n",
       "    <tr>\n",
       "      <th>34411</th>\n",
       "      <td>frames\\nightTrain\\nightTrain\\nightClip5\\frames...</td>\n",
       "    </tr>\n",
       "    <tr>\n",
       "      <th>34412</th>\n",
       "      <td>frames\\nightTrain\\nightTrain\\nightClip5\\frames...</td>\n",
       "    </tr>\n",
       "  </tbody>\n",
       "</table>\n",
       "<p>34413 rows × 1 columns</p>\n",
       "</div>"
      ],
      "text/plain": [
       "                                                filename\n",
       "0      frames\\daySequence1\\daySequence1\\frames\\daySeq...\n",
       "1      frames\\daySequence1\\daySequence1\\frames\\daySeq...\n",
       "2      frames\\daySequence1\\daySequence1\\frames\\daySeq...\n",
       "3      frames\\daySequence1\\daySequence1\\frames\\daySeq...\n",
       "4      frames\\daySequence1\\daySequence1\\frames\\daySeq...\n",
       "...                                                  ...\n",
       "34408  frames\\nightTrain\\nightTrain\\nightClip5\\frames...\n",
       "34409  frames\\nightTrain\\nightTrain\\nightClip5\\frames...\n",
       "34410  frames\\nightTrain\\nightTrain\\nightClip5\\frames...\n",
       "34411  frames\\nightTrain\\nightTrain\\nightClip5\\frames...\n",
       "34412  frames\\nightTrain\\nightTrain\\nightClip5\\frames...\n",
       "\n",
       "[34413 rows x 1 columns]"
      ]
     },
     "execution_count": 19,
     "metadata": {},
     "output_type": "execute_result"
    }
   ],
   "source": [
    "df_train"
   ]
  },
  {
   "cell_type": "code",
   "execution_count": 22,
   "id": "380ada3d",
   "metadata": {},
   "outputs": [
    {
     "name": "stdout",
     "output_type": "stream",
     "text": [
      "No duplicates found.\n"
     ]
    }
   ],
   "source": [
    "de_duped_list = list(set(train_indices))\n",
    "\n",
    "if len(train_indices) != len(de_duped_list):\n",
    "    print(\"Duplicates found!\")\n",
    "    duplicates = [item for item in train_indices if train_indices.count(item) > 1]\n",
    "    print(\"Duplicate items:\", duplicates)\n",
    "else:\n",
    "    print(\"No duplicates found.\")"
   ]
  },
  {
   "cell_type": "code",
   "execution_count": 24,
   "id": "cff56aa8",
   "metadata": {},
   "outputs": [],
   "source": [
    "# define function to copy file\n",
    "def copy_file(row):\n",
    "    shutil.copy2(row['filename'], 'test')"
   ]
  },
  {
   "cell_type": "code",
   "execution_count": null,
   "id": "45314477",
   "metadata": {},
   "outputs": [],
   "source": [
    "# apply function to each row in DataFrame\n",
    "df_test.apply(copy_file, axis=1)"
   ]
  },
  {
   "cell_type": "code",
   "execution_count": null,
   "id": "15661886",
   "metadata": {},
   "outputs": [],
   "source": [
    "target = 'test'\n",
    "dst_path = os.path.join(os.getcwd(), 'test')\n",
    "dst_path = dst_path.replace(\"\\\\\",\"/\")\n",
    "print(len(list2))\n",
    "count = 0\n",
    "print(dst_path)\n",
    "# specify the source and destination file paths\n",
    "\n",
    "for i in range(0, 50):\n",
    "    src_path = os.path.join(os.getcwd(), list2[i])\n",
    "    src_path = src_path.replace(\"\\\\\",\"/\")\n",
    "    if os.path.isfile(list2[i]):\n",
    "        try:\n",
    "            shutil.copy2(src_path, dst_path)\n",
    "            print(src_path)\n",
    "            count += 1\n",
    "        except Exception as e:\n",
    "            print(f\"An error occurred: {e}\")\n",
    "        #print(result)\n",
    "    src_path = None\n",
    "print(count)"
   ]
  },
  {
   "cell_type": "code",
   "execution_count": null,
   "id": "cb9c4e00",
   "metadata": {},
   "outputs": [],
   "source": [
    "def createDataFrame(files):\n",
    "    df = pd.concat((pd.read_csv(f, ';') for f in files))\n",
    "    return df\n",
    "\n",
    "# load all annotation files\n",
    "annotationFiles = glob.glob(os.path.join('Annotations/Annotations', '**/*BOX.csv'), recursive=True)\n",
    "annotations = createDataFrame(annotationFiles)"
   ]
  },
  {
   "cell_type": "code",
   "execution_count": null,
   "id": "d979a04d",
   "metadata": {},
   "outputs": [],
   "source": [
    "annotations"
   ]
  },
  {
   "cell_type": "code",
   "execution_count": null,
   "id": "8a34ab9e",
   "metadata": {},
   "outputs": [],
   "source": [
    "annotations"
   ]
  },
  {
   "cell_type": "code",
   "execution_count": null,
   "id": "f0527fcd",
   "metadata": {},
   "outputs": [],
   "source": [
    "\n",
    "annotations['Filename'] = annotations['Filename'].apply(lambda x: x.split('/')[-1])"
   ]
  },
  {
   "cell_type": "code",
   "execution_count": null,
   "id": "efe1bc6e",
   "metadata": {},
   "outputs": [],
   "source": [
    "annotations1 = annotations[annotations['Filename'].isin(newl2)]\n",
    "# newl2 = []\n",
    "# for i in range(0, len(list2)):\n",
    "#     newl2.append(list2[i].split('\\\\')[-1])    \n"
   ]
  },
  {
   "cell_type": "code",
   "execution_count": null,
   "id": "ab34a0dd",
   "metadata": {},
   "outputs": [],
   "source": [
    "annotations1"
   ]
  }
 ],
 "metadata": {
  "kernelspec": {
   "display_name": "Python 3 (ipykernel)",
   "language": "python",
   "name": "python3"
  },
  "language_info": {
   "codemirror_mode": {
    "name": "ipython",
    "version": 3
   },
   "file_extension": ".py",
   "mimetype": "text/x-python",
   "name": "python",
   "nbconvert_exporter": "python",
   "pygments_lexer": "ipython3",
   "version": "3.9.16"
  }
 },
 "nbformat": 4,
 "nbformat_minor": 5
}
